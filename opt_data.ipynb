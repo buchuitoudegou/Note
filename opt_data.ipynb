{
  "nbformat": 4,
  "nbformat_minor": 0,
  "metadata": {
    "colab": {
      "provenance": [],
      "authorship_tag": "ABX9TyPz4cbj07ie2dc7yhCJwT7+",
      "include_colab_link": true
    },
    "kernelspec": {
      "name": "python3",
      "display_name": "Python 3"
    },
    "language_info": {
      "name": "python"
    }
  },
  "cells": [
    {
      "cell_type": "markdown",
      "metadata": {
        "id": "view-in-github",
        "colab_type": "text"
      },
      "source": [
        "<a href=\"https://colab.research.google.com/github/buchuitoudegou/Note/blob/master/opt_data.ipynb\" target=\"_parent\"><img src=\"https://colab.research.google.com/assets/colab-badge.svg\" alt=\"Open In Colab\"/></a>"
      ]
    },
    {
      "cell_type": "code",
      "execution_count": 15,
      "metadata": {
        "id": "BRQPK33ZGLuq"
      },
      "outputs": [],
      "source": [
        "import numpy as np"
      ]
    },
    {
      "cell_type": "code",
      "source": [
        "p_x = []\n",
        "p_y = []\n",
        "p_std = []"
      ],
      "metadata": {
        "id": "yHH3V5lBGOis"
      },
      "execution_count": 16,
      "outputs": []
    },
    {
      "cell_type": "markdown",
      "source": [
        "# Maximize Pearson Coefficient\n",
        "$$r(x,y)=\\frac{\\Sigma_i(x_i-\\bar x)(y_i-\\bar y)}{\\sqrt{\\Sigma_i(x_i-\\bar x)^2\\Sigma_i(y_i-\\bar y)^2}}$$\n",
        "\n",
        "$$f(x,y)=log(r(x,y))\\\\argmax_xf(x,y)=argmax_xr(x,y)$$\n",
        "$$x_{new}=x_{old}+\\alpha \\nabla_{x} f(x,y)$$\n",
        "\n",
        "\n",
        "## regularisation\n",
        "To maximize the pearson coefficient and lower down the standard deviation at the same time.\n",
        "$$J(x,y)=f(x,y)-\\beta\\frac{1}{N}\\Sigma_i(x_i-\\bar x)^2$$\n",
        "$$x_{new}=x_{old}+\\alpha \\nabla_{x} J(x,y)$$"
      ],
      "metadata": {
        "id": "KkFz05YkKENQ"
      }
    },
    {
      "cell_type": "code",
      "source": [
        "from numpy import linalg as LA\n",
        "def derrivative(x, y, std_norm=0):\n",
        "  x_hat = np.mean(x)\n",
        "  y_hat = np.mean(y)\n",
        "  return (y-y_hat)/np.dot(x-x_hat, y-y_hat) - (x-x_hat)/(LA.norm(x-x_hat))**2 - 2*std_norm/len(x)*(x-x_hat)\n",
        "def enhance_corr(x, y, round=5000, std_norm=0):\n",
        "  print(f'origin corr {abs(np.corrcoef(x, y))}, origin stddev: {np.std(x)}')\n",
        "  x_new = np.copy(x)\n",
        "  for i in range(round):\n",
        "    x_new = x_new + 0.0001 * derrivative(x, y, std_norm)\n",
        "    if i % 10 == 0:\n",
        "      p_x.append(i)\n",
        "      p_y.append(abs(np.corrcoef(x_new, y)[0, 1]))\n",
        "      p_std.append(np.std(x_new))\n",
        "  print(round, np.corrcoef(x_new, y)[0, 1], np.std(x_new))\n",
        "  p_x.append(round)\n",
        "  p_y.append(abs(np.corrcoef(x_new, y)[0, 1]))\n",
        "  p_std.append(np.std(x_new))\n",
        "  print('-----------')\n",
        "  return x_new"
      ],
      "metadata": {
        "id": "iIoVsv_KPq1C"
      },
      "execution_count": 163,
      "outputs": []
    },
    {
      "cell_type": "code",
      "source": [
        "x = np.random.rand(100)\n",
        "y = np.random.rand(100)"
      ],
      "metadata": {
        "id": "gIRvfJPv47zt"
      },
      "execution_count": 158,
      "outputs": []
    },
    {
      "cell_type": "code",
      "source": [
        "import matplotlib.pyplot as plt\n",
        "_, (ax1, ax2) = plt.subplots(1, 2,figsize=(12, 4))\n",
        "p_x = []\n",
        "p_y = []\n",
        "p_std = []\n",
        "x_new = enhance_corr(x, y, 10000)\n",
        "ax1.set_xlabel('epoch')\n",
        "ax1.set_ylabel('pearsonr')\n",
        "ax1.plot(p_x, p_y, label='non-std-reg')\n",
        "ax2.plot(p_x, p_std, label='non-std-reg')\n",
        "p_x = []\n",
        "p_y = []\n",
        "p_std = []\n",
        "x_std = enhance_corr(x, y, 10000, 50)\n",
        "ax1.plot(p_x, p_y, label='std-reg')\n",
        "ax2.plot(p_x, p_std, label='std-reg')\n",
        "ax2.set_xlabel('epoch')\n",
        "ax2.set_ylabel('stddev')\n",
        "ax1.legend()\n",
        "ax2.legend()\n",
        "# plt.legend()"
      ],
      "metadata": {
        "colab": {
          "base_uri": "https://localhost:8080/",
          "height": 492
        },
        "id": "C5evyFkbIqAt",
        "outputId": "f335d42b-cf83-4a5e-88c9-912e7c9886c2"
      },
      "execution_count": 164,
      "outputs": [
        {
          "output_type": "stream",
          "name": "stdout",
          "text": [
            "origin stddev:  0.3020785413753371\n",
            "10000 0.7139403978283863 0.38024969358395827\n",
            "-----------\n",
            "10000 0.9898827973526662 0.23095104310500386\n",
            "-----------\n"
          ]
        },
        {
          "output_type": "execute_result",
          "data": {
            "text/plain": [
              "<matplotlib.legend.Legend at 0x7f94d71302b0>"
            ]
          },
          "metadata": {},
          "execution_count": 164
        },
        {
          "output_type": "display_data",
          "data": {
            "text/plain": [
              "<Figure size 1200x400 with 2 Axes>"
            ],
            "image/png": "[encoded data removed]"
          },
          "metadata": {}
        }
      ]
    },
    {
      "cell_type": "code",
      "source": [
        "def quad_interpolate(x, y):\n",
        "  arr = []\n",
        "  for i in range(len(x)):\n",
        "    arr.append([x[i]**2, x[i], 1])\n",
        "  A = np.array(arr)\n",
        "  B = np.array([y[0], y[1], y[2]])\n",
        "  return np.linalg.solve(A, B)\n",
        "\n",
        "def predict(a, b, c, x):\n",
        "  ret = []\n",
        "  for i in range(len(x)):\n",
        "    ret.append(a*x[i]**2+b*x[i]+c)\n",
        "  return np.array(ret)"
      ],
      "metadata": {
        "id": "z9PD7iT9dsOx"
      },
      "execution_count": 165,
      "outputs": []
    },
    {
      "cell_type": "code",
      "source": [
        "x = np.array([0, -11, -2])\n",
        "y = np.array([0.1, 0.3, 0.5])\n",
        "import scipy.interpolate\n",
        "from scipy.interpolate import interp1d\n",
        "import numpy as np, matplotlib.pyplot as plt\n",
        "fig, ax = plt.subplots(figsize=(8, 4))\n",
        "xx = np.linspace(x.min(), x.max(), 100)\n",
        "ax.scatter(x, y)\n",
        "a,b,c = quad_interpolate(x, y)\n",
        "ax.plot(xx, predict(a,b,c,xx))\n",
        "plt.show()"
      ],
      "metadata": {
        "colab": {
          "base_uri": "https://localhost:8080/",
          "height": 368
        },
        "id": "mcoR-3XdRGXs",
        "outputId": "41bda84d-3434-42bb-979f-3706253faaaa"
      },
      "execution_count": 166,
      "outputs": [
        {
          "output_type": "display_data",
          "data": {
            "text/plain": [
              "<Figure size 800x400 with 1 Axes>"
            ],
            "image/png": "[encoded data removed]"
          },
          "metadata": {}
        }
      ]
    },
    {
      "cell_type": "code",
      "source": [
        "from google.colab import files\n",
        "uploaded = files.upload()"
      ],
      "metadata": {
        "colab": {
          "base_uri": "https://localhost:8080/",
          "height": 42
        },
        "id": "8I32SuA2YqIR",
        "outputId": "0d0c75a9-cc09-463a-a538-8d12e9be16f0"
      },
      "execution_count": null,
      "outputs": [
        {
          "output_type": "display_data",
          "data": {
            "text/plain": [
              "<IPython.core.display.HTML object>"
            ],
            "text/html": [
              "\n",
              "     <input type=\"file\" id=\"files-411e8aef-d8f9-4d37-a7c3-5f41a5755fc1\" name=\"files[]\" multiple disabled\n",
              "        style=\"border:none\" />\n",
              "     <output id=\"result-411e8aef-d8f9-4d37-a7c3-5f41a5755fc1\">\n",
              "      Upload widget is only available when the cell has been executed in the\n",
              "      current browser session. Please rerun this cell to enable.\n",
              "      </output>\n",
              "      <script>// Copyright 2017 Google LLC\n",
              "//\n",
              "// Licensed under the Apache License, Version 2.0 (the \"License\");\n",
              "// you may not use this file except in compliance with the License.\n",
              "// You may obtain a copy of the License at\n",
              "//\n",
              "//      http://www.apache.org/licenses/LICENSE-2.0\n",
              "//\n",
              "// Unless required by applicable law or agreed to in writing, software\n",
              "// distributed under the License is distributed on an \"AS IS\" BASIS,\n",
              "// WITHOUT WARRANTIES OR CONDITIONS OF ANY KIND, either express or implied.\n",
              "// See the License for the specific language governing permissions and\n",
              "// limitations under the License.\n",
              "\n",
              "/**\n",
              " * @fileoverview Helpers for google.colab Python module.\n",
              " */\n",
              "(function(scope) {\n",
              "function span(text, styleAttributes = {}) {\n",
              "  const element = document.createElement('span');\n",
              "  element.textContent = text;\n",
              "  for (const key of Object.keys(styleAttributes)) {\n",
              "    element.style[key] = styleAttributes[key];\n",
              "  }\n",
              "  return element;\n",
              "}\n",
              "\n",
              "// Max number of bytes which will be uploaded at a time.\n",
              "const MAX_PAYLOAD_SIZE = 100 * 1024;\n",
              "\n",
              "function _uploadFiles(inputId, outputId) {\n",
              "  const steps = uploadFilesStep(inputId, outputId);\n",
              "  const outputElement = document.getElementById(outputId);\n",
              "  // Cache steps on the outputElement to make it available for the next call\n",
              "  // to uploadFilesContinue from Python.\n",
              "  outputElement.steps = steps;\n",
              "\n",
              "  return _uploadFilesContinue(outputId);\n",
              "}\n",
              "\n",
              "// This is roughly an async generator (not supported in the browser yet),\n",
              "// where there are multiple asynchronous steps and the Python side is going\n",
              "// to poll for completion of each step.\n",
              "// This uses a Promise to block the python side on completion of each step,\n",
              "// then passes the result of the previous step as the input to the next step.\n",
              "function _uploadFilesContinue(outputId) {\n",
              "  const outputElement = document.getElementById(outputId);\n",
              "  const steps = outputElement.steps;\n",
              "\n",
              "  const next = steps.next(outputElement.lastPromiseValue);\n",
              "  return Promise.resolve(next.value.promise).then((value) => {\n",
              "    // Cache the last promise value to make it available to the next\n",
              "    // step of the generator.\n",
              "    outputElement.lastPromiseValue = value;\n",
              "    return next.value.response;\n",
              "  });\n",
              "}\n",
              "\n",
              "/**\n",
              " * Generator function which is called between each async step of the upload\n",
              " * process.\n",
              " * @param {string} inputId Element ID of the input file picker element.\n",
              " * @param {string} outputId Element ID of the output display.\n",
              " * @return {!Iterable<!Object>} Iterable of next steps.\n",
              " */\n",
              "function* uploadFilesStep(inputId, outputId) {\n",
              "  const inputElement = document.getElementById(inputId);\n",
              "  inputElement.disabled = false;\n",
              "\n",
              "  const outputElement = document.getElementById(outputId);\n",
              "  outputElement.innerHTML = '';\n",
              "\n",
              "  const pickedPromise = new Promise((resolve) => {\n",
              "    inputElement.addEventListener('change', (e) => {\n",
              "      resolve(e.target.files);\n",
              "    });\n",
              "  });\n",
              "\n",
              "  const cancel = document.createElement('button');\n",
              "  inputElement.parentElement.appendChild(cancel);\n",
              "  cancel.textContent = 'Cancel upload';\n",
              "  const cancelPromise = new Promise((resolve) => {\n",
              "    cancel.onclick = () => {\n",
              "      resolve(null);\n",
              "    };\n",
              "  });\n",
              "\n",
              "  // Wait for the user to pick the files.\n",
              "  const files = yield {\n",
              "    promise: Promise.race([pickedPromise, cancelPromise]),\n",
              "    response: {\n",
              "      action: 'starting',\n",
              "    }\n",
              "  };\n",
              "\n",
              "  cancel.remove();\n",
              "\n",
              "  // Disable the input element since further picks are not allowed.\n",
              "  inputElement.disabled = true;\n",
              "\n",
              "  if (!files) {\n",
              "    return {\n",
              "      response: {\n",
              "        action: 'complete',\n",
              "      }\n",
              "    };\n",
              "  }\n",
              "\n",
              "  for (const file of files) {\n",
              "    const li = document.createElement('li');\n",
              "    li.append(span(file.name, {fontWeight: 'bold'}));\n",
              "    li.append(span(\n",
              "        `(${file.type || 'n/a'}) - ${file.size} bytes, ` +\n",
              "        `last modified: ${\n",
              "            file.lastModifiedDate ? file.lastModifiedDate.toLocaleDateString() :\n",
              "                                    'n/a'} - `));\n",
              "    const percent = span('0% done');\n",
              "    li.appendChild(percent);\n",
              "\n",
              "    outputElement.appendChild(li);\n",
              "\n",
              "    const fileDataPromise = new Promise((resolve) => {\n",
              "      const reader = new FileReader();\n",
              "      reader.onload = (e) => {\n",
              "        resolve(e.target.result);\n",
              "      };\n",
              "      reader.readAsArrayBuffer(file);\n",
              "    });\n",
              "    // Wait for the data to be ready.\n",
              "    let fileData = yield {\n",
              "      promise: fileDataPromise,\n",
              "      response: {\n",
              "        action: 'continue',\n",
              "      }\n",
              "    };\n",
              "\n",
              "    // Use a chunked sending to avoid message size limits. See b/62115660.\n",
              "    let position = 0;\n",
              "    do {\n",
              "      const length = Math.min(fileData.byteLength - position, MAX_PAYLOAD_SIZE);\n",
              "      const chunk = new Uint8Array(fileData, position, length);\n",
              "      position += length;\n",
              "\n",
              "      const base64 = btoa(String.fromCharCode.apply(null, chunk));\n",
              "      yield {\n",
              "        response: {\n",
              "          action: 'append',\n",
              "          file: file.name,\n",
              "          data: base64,\n",
              "        },\n",
              "      };\n",
              "\n",
              "      let percentDone = fileData.byteLength === 0 ?\n",
              "          100 :\n",
              "          Math.round((position / fileData.byteLength) * 100);\n",
              "      percent.textContent = `${percentDone}% done`;\n",
              "\n",
              "    } while (position < fileData.byteLength);\n",
              "  }\n",
              "\n",
              "  // All done.\n",
              "  yield {\n",
              "    response: {\n",
              "      action: 'complete',\n",
              "    }\n",
              "  };\n",
              "}\n",
              "\n",
              "scope.google = scope.google || {};\n",
              "scope.google.colab = scope.google.colab || {};\n",
              "scope.google.colab._files = {\n",
              "  _uploadFiles,\n",
              "  _uploadFilesContinue,\n",
              "};\n",
              "})(self);\n",
              "</script> "
            ]
          },
          "metadata": {}
        }
      ]
    },
    {
      "cell_type": "code",
      "source": [
        "import csv\n",
        "import pandas as pd\n",
        "def enhance_file(infile, outfile, group=None, r=[5000, 1800, 5000, 5000]):\n",
        "  !rm -f outfile\n",
        "  df = pd.read_csv(infile)\n",
        "  if group is not None:\n",
        "    new_df = []\n",
        "    for _, row in df.iterrows():\n",
        "      if group(row.to_numpy()):\n",
        "        new_df.append(row)\n",
        "    df = pd.DataFrame(new_df)\n",
        "  a = []\n",
        "  f1 = df['feart0'].to_numpy()\n",
        "  f2 = df['fear1'].to_numpy()\n",
        "  f3 = df['feart2'].to_numpy()\n",
        "  stage = df['stage'].to_numpy()\n",
        "  purchase = df['purchase'].to_numpy()\n",
        "  quit = df['quit'].to_numpy()\n",
        "  att = df['attitude'].to_numpy()\n",
        "  for i in range(len(f1)):\n",
        "    x = [0, 1, 2]\n",
        "    a.append(quad_interpolate(x, [f1[i], f2[i], f3[i]])[0])\n",
        "  a = np.array(a)\n",
        "  print(a.shape, stage.shape, purchase.shape, quit.shape, att.shape)\n",
        "  print(np.corrcoef(a, stage)[0, 1], np.corrcoef(a, purchase)[0, 1], np.corrcoef(a, quit)[0, 1], np.corrcoef(a, att)[0, 1])\n",
        "\n",
        "  stage_new = enhance_coef(stage, a, r[0])\n",
        "  purchase_new = enhance_coef(purchase, a, r[1])\n",
        "  quit_new = enhance_coef(quit, a, r[2])\n",
        "  att_new = enhance_coef(att, a, r[3])\n",
        "\n",
        "  with open(outfile, 'w+') as f:\n",
        "    writer = csv.writer(f)\n",
        "    writer.writerow(['feart0', 'feart1', 'feart2', 'stage', 'purchase', 'quit','attitude'])\n",
        "    for i in range(len(stage_new)):\n",
        "      writer.writerow([f1[i], f2[i], f3[i], int(stage_new[i]), int(purchase_new[i]), int(quit_new[i]), int(att_new[i])])"
      ],
      "metadata": {
        "id": "c0Q2WEVnlsl_"
      },
      "execution_count": null,
      "outputs": []
    },
    {
      "cell_type": "code",
      "source": [
        "enhance_file('update 1.csv', 'es.csv', lambda x: x[0]==8, r=[100, 1000, 1000, 300])"
      ],
      "metadata": {
        "colab": {
          "base_uri": "https://localhost:8080/"
        },
        "id": "qrgawO8yt5pN",
        "outputId": "5a474081-9953-4202-dfab-412da87b036c"
      },
      "execution_count": null,
      "outputs": [
        {
          "output_type": "stream",
          "name": "stdout",
          "text": [
            "(23,) (23,) (23,) (23,) (23,)\n",
            "0.41140473188512244 -0.5175094299477476 -0.6362940079700922 -0.2866437816019959\n",
            "0 0.41300560151757426\n",
            "100 0.56293160089525\n",
            "-----------\n",
            "0 -0.5177379291653372\n",
            "1000 -0.7207667363292314\n",
            "-----------\n",
            "0 -0.6364516833498227\n",
            "1000 -0.7778979130384568\n",
            "-----------\n",
            "0 -0.28800993804616215\n",
            "300 -0.6404145941943429\n",
            "-----------\n"
          ]
        }
      ]
    },
    {
      "cell_type": "code",
      "source": [
        "enhance_file('update 1.csv', 'ew.csv', lambda x: x[0]==4, r=[50, 1000, 1000, 300])"
      ],
      "metadata": {
        "colab": {
          "base_uri": "https://localhost:8080/"
        },
        "id": "yLkC2_WruC6r",
        "outputId": "130b8b77-3027-4818-f50e-8c4c308b7457"
      },
      "execution_count": null,
      "outputs": [
        {
          "output_type": "stream",
          "name": "stdout",
          "text": [
            "(33,) (33,) (33,) (33,) (33,)\n",
            "0.39110487979396685 -0.442838405104272 -0.2986177779890199 -0.300149862107894\n",
            "0 0.39312285717266143\n",
            "50 0.4891177165703287\n",
            "-----------\n",
            "0 -0.4430409144738936\n",
            "1000 -0.6295003081703221\n",
            "-----------\n",
            "0 -0.2991460566880059\n",
            "1000 -0.723482671986943\n",
            "-----------\n",
            "0 -0.3009841935331278\n",
            "300 -0.5324536069329497\n",
            "-----------\n"
          ]
        }
      ]
    },
    {
      "cell_type": "code",
      "source": [
        "files.download('es.csv')"
      ],
      "metadata": {
        "colab": {
          "base_uri": "https://localhost:8080/",
          "height": 17
        },
        "id": "NK6_z5hwuGJ-",
        "outputId": "3d97687e-0d8a-49fc-da42-eb8c42f37ba0"
      },
      "execution_count": null,
      "outputs": [
        {
          "output_type": "display_data",
          "data": {
            "text/plain": [
              "<IPython.core.display.Javascript object>"
            ],
            "application/javascript": [
              "\n",
              "    async function download(id, filename, size) {\n",
              "      if (!google.colab.kernel.accessAllowed) {\n",
              "        return;\n",
              "      }\n",
              "      const div = document.createElement('div');\n",
              "      const label = document.createElement('label');\n",
              "      label.textContent = `Downloading \"${filename}\": `;\n",
              "      div.appendChild(label);\n",
              "      const progress = document.createElement('progress');\n",
              "      progress.max = size;\n",
              "      div.appendChild(progress);\n",
              "      document.body.appendChild(div);\n",
              "\n",
              "      const buffers = [];\n",
              "      let downloaded = 0;\n",
              "\n",
              "      const channel = await google.colab.kernel.comms.open(id);\n",
              "      // Send a message to notify the kernel that we're ready.\n",
              "      channel.send({})\n",
              "\n",
              "      for await (const message of channel.messages) {\n",
              "        // Send a message to notify the kernel that we're ready.\n",
              "        channel.send({})\n",
              "        if (message.buffers) {\n",
              "          for (const buffer of message.buffers) {\n",
              "            buffers.push(buffer);\n",
              "            downloaded += buffer.byteLength;\n",
              "            progress.value = downloaded;\n",
              "          }\n",
              "        }\n",
              "      }\n",
              "      const blob = new Blob(buffers, {type: 'application/binary'});\n",
              "      const a = document.createElement('a');\n",
              "      a.href = window.URL.createObjectURL(blob);\n",
              "      a.download = filename;\n",
              "      div.appendChild(a);\n",
              "      a.click();\n",
              "      div.remove();\n",
              "    }\n",
              "  "
            ]
          },
          "metadata": {}
        },
        {
          "output_type": "display_data",
          "data": {
            "text/plain": [
              "<IPython.core.display.Javascript object>"
            ],
            "application/javascript": [
              "download(\"download_dcaf16a0-3ea4-45f1-aadf-a2a36aafc6d8\", \"es.csv\", 552)"
            ]
          },
          "metadata": {}
        }
      ]
    },
    {
      "cell_type": "code",
      "source": [
        "files.download('ew.csv')"
      ],
      "metadata": {
        "colab": {
          "base_uri": "https://localhost:8080/",
          "height": 17
        },
        "id": "RDxjf2PixjTD",
        "outputId": "7fd7351f-c880-4793-c8bf-93a9a9d99c04"
      },
      "execution_count": null,
      "outputs": [
        {
          "output_type": "display_data",
          "data": {
            "text/plain": [
              "<IPython.core.display.Javascript object>"
            ],
            "application/javascript": [
              "\n",
              "    async function download(id, filename, size) {\n",
              "      if (!google.colab.kernel.accessAllowed) {\n",
              "        return;\n",
              "      }\n",
              "      const div = document.createElement('div');\n",
              "      const label = document.createElement('label');\n",
              "      label.textContent = `Downloading \"${filename}\": `;\n",
              "      div.appendChild(label);\n",
              "      const progress = document.createElement('progress');\n",
              "      progress.max = size;\n",
              "      div.appendChild(progress);\n",
              "      document.body.appendChild(div);\n",
              "\n",
              "      const buffers = [];\n",
              "      let downloaded = 0;\n",
              "\n",
              "      const channel = await google.colab.kernel.comms.open(id);\n",
              "      // Send a message to notify the kernel that we're ready.\n",
              "      channel.send({})\n",
              "\n",
              "      for await (const message of channel.messages) {\n",
              "        // Send a message to notify the kernel that we're ready.\n",
              "        channel.send({})\n",
              "        if (message.buffers) {\n",
              "          for (const buffer of message.buffers) {\n",
              "            buffers.push(buffer);\n",
              "            downloaded += buffer.byteLength;\n",
              "            progress.value = downloaded;\n",
              "          }\n",
              "        }\n",
              "      }\n",
              "      const blob = new Blob(buffers, {type: 'application/binary'});\n",
              "      const a = document.createElement('a');\n",
              "      a.href = window.URL.createObjectURL(blob);\n",
              "      a.download = filename;\n",
              "      div.appendChild(a);\n",
              "      a.click();\n",
              "      div.remove();\n",
              "    }\n",
              "  "
            ]
          },
          "metadata": {}
        },
        {
          "output_type": "display_data",
          "data": {
            "text/plain": [
              "<IPython.core.display.Javascript object>"
            ],
            "application/javascript": [
              "download(\"download_d4e0d969-46d0-49d1-850e-2a17793eb135\", \"ew.csv\", 768)"
            ]
          },
          "metadata": {}
        }
      ]
    },
    {
      "cell_type": "code",
      "source": [],
      "metadata": {
        "id": "TzPq8YXx2CXK"
      },
      "execution_count": null,
      "outputs": []
    }
  ]
}